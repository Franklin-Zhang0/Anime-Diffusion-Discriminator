{
 "cells": [
  {
   "cell_type": "code",
   "execution_count": 4,
   "metadata": {},
   "outputs": [],
   "source": [
    "import torch\n",
    "import torch.nn as nn\n",
    "import torchvision \n",
    "from torchvision import transforms\n",
    "import numpy as np\n",
    "import cv2\n",
    "from PIL import Image"
   ]
  },
  {
   "cell_type": "code",
   "execution_count": 68,
   "metadata": {},
   "outputs": [],
   "source": [
    "model = torchvision.models.resnet101()\n",
    "model.fc=nn.Linear(model.fc.in_features, 2)\n",
    "softmax = nn.Softmax(dim=1)\n",
    "try:\n",
    "    model.load_state_dict(torch.load(\"./model/model.pth\"))\n",
    "except:\n",
    "    raise Exception(\"NO MODEL FILE FOUND IN ./model/\")\n",
    "device = torch.device(\"cuda:0\" if torch.cuda.is_available() else \"cpu\")\n",
    "model = model.to(device)\n",
    "criteria = nn.CrossEntropyLoss()"
   ]
  },
  {
   "cell_type": "code",
   "execution_count": 69,
   "metadata": {},
   "outputs": [],
   "source": [
    "MyTransform = transforms.Compose([\n",
    "    transforms.Resize(512),\n",
    "    transforms.RandomCrop((512, 512)),\n",
    "    transforms.ToTensor(),\n",
    "    transforms.Normalize(mean=[0.5,0.5,0.5],std=[0.5,0.5,0.5]),\n",
    "])"
   ]
  },
  {
   "cell_type": "code",
   "execution_count": 74,
   "metadata": {},
   "outputs": [],
   "source": [
    "path = \"4777\"\n",
    "img = Image.open(\"./dataset/diffusion/\" + path + \".png\")\n",
    "img = MyTransform(img)\n",
    "img = img[None,:]\n",
    "img = img.to(device)\n",
    "img.requires_grad = True\n",
    "img_optim = torch.optim.Adam([img], lr=2e-3)\n",
    "#lock the model grad\n",
    "for param in model.parameters():\n",
    "    param.requires_grad = False\n"
   ]
  },
  {
   "cell_type": "code",
   "execution_count": 75,
   "metadata": {},
   "outputs": [
    {
     "name": "stdout",
     "output_type": "stream",
     "text": [
      "loss:  11.472119331359863\n",
      "original img probablity:  [9.9998963e-01 1.0416503e-05]\n",
      "loss:  6.425551891326904\n",
      "loss:  2.248121738433838\n",
      "loss:  0.16502946615219116\n",
      "loss:  0.00830529723316431\n",
      "loss:  0.000847933697514236\n",
      "loss:  0.00014041867689229548\n",
      "loss:  3.325883881188929e-05\n",
      "loss:  1.0013530300057027e-05\n",
      "loss:  3.6954811548639555e-06\n"
     ]
    }
   ],
   "source": [
    "epochs = 10\n",
    "model.eval()\n",
    "\n",
    "for i in range(epochs):\n",
    "    pred = model(img)\n",
    "    loss = criteria(pred, torch.tensor([1]).to(device))\n",
    "    print(\"loss: \", loss.item())\n",
    "    img_optim.zero_grad()\n",
    "    loss.backward()\n",
    "    img_optim.step()\n",
    "    if(i==0):\n",
    "        #show the probablity of the original img\n",
    "        pred = softmax(pred)\n",
    "        pred = pred.cpu().detach().numpy()[0]\n",
    "        print(\"original img probablity: \", pred)\n",
    "\n",
    "#show the updated img\n",
    "img = img.cpu().detach().numpy()[0]\n",
    "img = np.transpose(img, (1,2,0))\n",
    "img = img * np.array([0.5,0.5,0.5]) + np.array([0.5,0.5,0.5])\n",
    "img = img * 255\n",
    "img = img.astype(np.uint8)\n",
    "img = cv2.cvtColor(img, cv2.COLOR_RGB2BGR)\n",
    "cv2.imwrite(\"./all_data/modified/\" + path + \"_modified.png\", img)\n",
    "cv2.imshow(\"img\", img)\n",
    "cv2.waitKey()\n",
    "cv2.destroyAllWindows()\n",
    "\n",
    "\n",
    "\n"
   ]
  },
  {
   "cell_type": "code",
   "execution_count": null,
   "metadata": {},
   "outputs": [],
   "source": []
  }
 ],
 "metadata": {
  "kernelspec": {
   "display_name": "pytorch",
   "language": "python",
   "name": "python3"
  },
  "language_info": {
   "codemirror_mode": {
    "name": "ipython",
    "version": 3
   },
   "file_extension": ".py",
   "mimetype": "text/x-python",
   "name": "python",
   "nbconvert_exporter": "python",
   "pygments_lexer": "ipython3",
   "version": "3.10.11"
  },
  "orig_nbformat": 4
 },
 "nbformat": 4,
 "nbformat_minor": 2
}
